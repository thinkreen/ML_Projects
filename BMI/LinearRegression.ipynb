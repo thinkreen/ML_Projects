{
 "cells": [
  {
   "cell_type": "markdown",
   "metadata": {},
   "source": [
    "# Linear Regression\n",
    "\n",
    "+ Using scikit-learn's `LinearRegression`.\n",
    "```\n",
    "from sklearn.linear_model import LinearRegression\n",
    "model = LinearRegression()\n",
    "```\n",
    "+ Using the function `fit()` to fit the model to data.\n",
    "<br>The `model` variable is a linear regression model that has been fitted to the data `x_values` and `y_values`. Fitting the model means finding the best line that fits the training data.\n",
    "```\n",
    "model.fit(x_values, y_values)\n",
    "```\n",
    "\n"
   ]
  },
  {
   "cell_type": "markdown",
   "metadata": {},
   "source": [
    "1. **Load the data**\n",
    "    + The data is in the file called \"bmi_and_life_expectancy.csv\".\n",
    "    + Use pandas `read_csv` to load the data into a dataframe.\n",
    "    + Assign the dataframe to the vairable ` bmi_life_data`.\n",
    "    \n",
    "+ **Build a linear regression model**\n",
    "    + Create a regression model using scikit-learn's `LinearRegression` and assign it to `bmi_life_model`.\n",
    "    + Fit the model to the data.\n",
    "    \n",
    "+ **Predict using the model**\n",
    "    + Predict using BMI of 82.77931 and assign it to the variable `korea_life_exp'"
   ]
  },
  {
   "cell_type": "code",
   "execution_count": 72,
   "metadata": {},
   "outputs": [
    {
     "name": "stdout",
     "output_type": "stream",
     "text": [
      "[[215.70582854]]\n"
     ]
    }
   ],
   "source": [
    "# TODO: Add import statements\n",
    "import pandas as pd\n",
    "import numpy as np\n",
    "from sklearn.linear_model import LinearRegression\n",
    "\n",
    "# Assign the dataframe to this variable.\n",
    "# TODO: Load the data\n",
    "bmi_life_data = pd.read_csv(\"bmi_and_life_expectancy.csv\") \n",
    "\n",
    "# Make and fit the linear regression model\n",
    "# BMI: the main BMI of males in that country.\n",
    "# Life expectancy: the average life expectancy at birth for a person in that country.\n",
    "bmi_life_model = LinearRegression()\n",
    "bmi_life_model.fit(bmi_life_data[['BMI']], bmi_life_data[['Life expectancy']])\n",
    "\n",
    "# Make a prediction using the model\n",
    "# TODO: Predict life expectancy for a BMI value of 82.77931\n",
    "# Since when I put scalar value 82.77931 on Jupyter Notebook with error msg below, I change to 2D array value [82.77931]\n",
    "'''\n",
    "ValueError: Expected 2D array, got scalar array instead:\n",
    "array=21.07931.\n",
    "Reshape your data either using array.reshape(-1, 1) if your data has a single feature or array.reshape(1, -1) if it contains a single sample.\n",
    "'''\n",
    "\n",
    "korea_life_exp = bmi_life_model.predict([[82.77931]])\n",
    "print(korea_life_exp)"
   ]
  },
  {
   "cell_type": "code",
   "execution_count": null,
   "metadata": {},
   "outputs": [],
   "source": []
  }
 ],
 "metadata": {
  "kernelspec": {
   "display_name": "Python [conda env:root] *",
   "language": "python",
   "name": "conda-root-py"
  },
  "language_info": {
   "codemirror_mode": {
    "name": "ipython",
    "version": 3
   },
   "file_extension": ".py",
   "mimetype": "text/x-python",
   "name": "python",
   "nbconvert_exporter": "python",
   "pygments_lexer": "ipython3",
   "version": "3.7.6"
  }
 },
 "nbformat": 4,
 "nbformat_minor": 4
}
